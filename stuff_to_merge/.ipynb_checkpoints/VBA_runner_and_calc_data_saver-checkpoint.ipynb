{
 "cells": [
  {
   "cell_type": "markdown",
   "metadata": {},
   "source": [
    "Кобзарь О.С. Хабибуллин Р.А. 31.07.2019\n",
    "\n",
    "# Управление расчетом VBA\n",
    "\n",
    "1. Добавление данных из шахматки.\n",
    "2. Сам расчет и хранение данных.\n",
    "3. Генерация общего файлика с проадаптированной скважиной во времени"
   ]
  },
  {
   "cell_type": "code",
   "execution_count": null,
   "metadata": {},
   "outputs": [],
   "source": [
    "import pandas as pd\n",
    "import matplotlib.pyplot as plt\n",
    "import numpy as np\n",
    "\n",
    "import plotly.plotly as py\n",
    "import plotly.graph_objs as go\n",
    "import plotly.graph_objs as go\n",
    "from plotly.offline import download_plotlyjs, init_notebook_mode, plot, iplot\n",
    "from plotly import tools\n",
    "init_notebook_mode(connected=True)\n",
    "\n",
    "from datetime import date\n",
    "import xlwings as  xw\n",
    "pd.set_option('precision', 3)"
   ]
  },
  {
   "cell_type": "markdown",
   "metadata": {},
   "source": [
    "# 1.  Добавление недостающих данных из шахматки\n",
    "\n",
    "Подготовленные данные со станции управления"
   ]
  },
  {
   "cell_type": "code",
   "execution_count": null,
   "metadata": {},
   "outputs": [],
   "source": [
    "cs_data_resampled = pd.read_csv(\"resampled_small_data.csv\", index_col = \"2\")\n",
    "cs_data_resampled.index = pd.to_datetime(cs_data_resampled.index)\n",
    "cs_data_resampled.head()"
   ]
  },
  {
   "cell_type": "markdown",
   "metadata": {},
   "source": [
    "Данные из шахматки"
   ]
  },
  {
   "cell_type": "code",
   "execution_count": null,
   "metadata": {},
   "outputs": [],
   "source": [
    "chess_data = pd.read_excel(\"Скв. 1354 шахматка.xls\", skiprows = 2)\n",
    "chess_data.index = pd.to_datetime(chess_data['Unnamed: 0'])\n",
    "chess_data.head()"
   ]
  },
  {
   "cell_type": "markdown",
   "metadata": {},
   "source": [
    "Объединение данных для получения всех параметров, необходимых для расчета. Расчет ГФ"
   ]
  },
  {
   "cell_type": "code",
   "execution_count": null,
   "metadata": {},
   "outputs": [],
   "source": [
    "input_data = chess_data.join(cs_data_resampled)\n",
    "input_data[\"ГФ\"] = input_data[\" Объемный дебит газа\"] / input_data[\" Объемный дебит нефти\"]\n",
    "input_data.to_csv(\"input_data.csv\")\n",
    "#input_data.iloc[-40]\n",
    "input_data.head()"
   ]
  },
  {
   "cell_type": "markdown",
   "metadata": {},
   "source": [
    "# 2. Массовый полуавтоматизированный расчет\n",
    "\n",
    "Создание интерфейсных функций в питоне, способных вызывать функции в UniflocVBA"
   ]
  },
  {
   "cell_type": "code",
   "execution_count": null,
   "metadata": {},
   "outputs": [],
   "source": [
    "book = xw.Book(\"UF7_калькулятор_ЭЦН _1354_с_СУ.xlsm\")\n",
    "\n",
    "f_write_on_sheet = book.macro(\"write_on_sheet\")\n",
    "f_get_data = book.macro(\"get_data\")"
   ]
  },
  {
   "cell_type": "markdown",
   "metadata": {},
   "source": [
    "Необходимые функции для подготовки данных и передачи их в UniflocVBA"
   ]
  },
  {
   "cell_type": "code",
   "execution_count": null,
   "metadata": {},
   "outputs": [],
   "source": [
    "class well_state_in_one_day():  # структура для хранения параметров состояния скважины в конкретный момент времени\n",
    "    def __init(self, Ql_scm3day = None,\n",
    "               wc_perc = None,\n",
    "               Rp_m3m3 = None, \n",
    "              P_intake_in_atma = None,\n",
    "              Pline_atma = None,\n",
    "              Pbuf_atma = None,\n",
    "              Pwf_atma = None,\n",
    "              Pcas_atma = None,\n",
    "              I_motor_nom_A_in = None,\n",
    "              Power_motor_nom_kWt = None,\n",
    "              I_motor_A_in = None,\n",
    "               cos_phi_ = None,\n",
    "               load_motor_in_d = None,\n",
    "               U_V_ = None,\n",
    "               act_power_cs_kwt_in = None):\n",
    "        \n",
    "        self.Ql_scm3day = Ql_scm3day\n",
    "        self.wc_perc = wc_perc\n",
    "        self.Rp_m3m3 = Rp_m3m3\n",
    "        \n",
    "        self.P_intake_in_atma = P_intake_in_atma\n",
    "        self.Pline_atma = Pline_atma\n",
    "        self.Pbuf_atma = Pbuf_atma\n",
    "        self.Pwf_atma = Pwf_atma\n",
    "        self.Pcas_atma = Pcas_atma\n",
    "        \n",
    "        self.I_motor_nom_A_in = I_motor_nom_A_in\n",
    "        self.Power_motor_nom_kWt = Power_motor_nom_kWt\n",
    "        self.I_motor_A_in = I_motor_A_in\n",
    "        self.cos_phi_ = cos_phi_\n",
    "        self.load_motor_in_d = load_motor_in_d\n",
    "        self.U_V_= U_V_\n",
    "        self.act_power_cs_kwt_in = act_power_cs_kwt_in\n",
    "        \n",
    "def transfer_data_from_df_to_obj(df, obj): # заполнение структуры данными из DataFrame, содержающего одну строку для нужного времени\n",
    "    obj.Ql_scm3day = df[\" Объемный дебит жидкости\"][0]\n",
    "    obj.wc_perc = df[\" Процент обводненности\"][0]\n",
    "    obj.Rp_m3m3 = df[\"ГФ\"][0]\n",
    "\n",
    "    obj.P_intake_in_atma = df[\"Рприем\"][0]\n",
    "    obj.Pline_atma = df[\"Рлин ТМ\"][0]\n",
    "    obj.Pbuf_atma = df[\"Рбуф\"][0]\n",
    "    obj.Pwf_atma = df[\"Pзаб(Pпр)\"][0]\n",
    "    obj.Pcas_atma = df[\"Рзатр\"][0]\n",
    "\n",
    "    obj.I_motor_nom_A_in = 64\n",
    "    obj.Power_motor_nom_kWt = 140\n",
    "    obj.I_motor_A_in = df[\"I\"][0]\n",
    "    obj.cos_phi_ = df[\" Коэффициент мощности\"][0]\n",
    "    obj.load_motor_in_d = df[\" Загрузка двигателя\"][0] / 100\n",
    "    obj.U_V_= df[\" Напряжение на выходе ТМПН\"][0]\n",
    "    obj.act_power_cs_kwt_in = df[\" Активная мощность\"][0]\n",
    "    return obj\n",
    "\n",
    "def write_float_data_on_list(func_xw, well_state_in_one_day_obj):  # запуск процедуры в VBA, записывающей данные на листи\n",
    "    func_xw(float(well_state_in_one_day_obj.Ql_scm3day),\n",
    "            float(well_state_in_one_day_obj.wc_perc),\n",
    "            float(well_state_in_one_day_obj.Rp_m3m3),\n",
    "            float(well_state_in_one_day_obj.P_intake_in_atma),\n",
    "            float(well_state_in_one_day_obj.Pline_atma),\n",
    "            float(well_state_in_one_day_obj.Pbuf_atma),\n",
    "            float(well_state_in_one_day_obj.Pwf_atma),\n",
    "            float(well_state_in_one_day_obj.Pcas_atma),\n",
    "            float(well_state_in_one_day_obj.I_motor_nom_A_in),\n",
    "            float(well_state_in_one_day_obj.Power_motor_nom_kWt),\n",
    "            float(well_state_in_one_day_obj.I_motor_A_in),\n",
    "            float(well_state_in_one_day_obj.cos_phi_),\n",
    "            float(well_state_in_one_day_obj.load_motor_in_d),\n",
    "            float(well_state_in_one_day_obj.U_V_ ),\n",
    "            float(well_state_in_one_day_obj.act_power_cs_kwt_in))\n",
    "    \n",
    "def get_state_by_timestamp(data, timestamp):  # заполнение структуры данными в нужный момент времени \n",
    "    one_day_input_param = data[data.index == timestamp]\n",
    "    empty_state = well_state_in_one_day()\n",
    "    filled_state = transfer_data_from_df_to_obj(one_day_input_param, empty_state)\n",
    "    return filled_state"
   ]
  },
  {
   "cell_type": "markdown",
   "metadata": {},
   "source": [
    "Время, для которого ведется расчет"
   ]
  },
  {
   "cell_type": "code",
   "execution_count": null,
   "metadata": {},
   "outputs": [],
   "source": [
    "year_calculated = 2019\n",
    "month_calculated = 2\n",
    "day_calculated = 15\n",
    "hour_calculated = 0"
   ]
  },
  {
   "cell_type": "markdown",
   "metadata": {},
   "source": [
    "Собственно сам расчет, в котором:\n",
    "\n",
    "1. Извлекаются данные в требуемый момент времени из хранилища исходных данных\n",
    "2. Заполняется структура всеми необходимыми данными\n",
    "3. С помощью xlwing вызывается функия VBA с параметрами, переданными через структуру, которая записывает данные на лист\n",
    "4. Вызвается с помощью xlwing функция, расчитывающая параметры и возвращающая их обратно в питон\n",
    "5. Рассчитанные параметры записываются в отдельный .csv\n",
    "\n",
    "Workflow:\n",
    "1. Выбрать день и записать параметры на лист с помощью функций\n",
    "2. Проадаптировать скважину\n",
    "3. Еще раз запустить функции для сохранения\n",
    "4. Перейти к следующему моменту времени"
   ]
  },
  {
   "cell_type": "code",
   "execution_count": null,
   "metadata": {},
   "outputs": [],
   "source": [
    "date_from = pd.to_datetime(pd.DataFrame({'year': [year_calculated],\n",
    "                           'month': [month_calculated],\n",
    "                           'day': [day_calculated],\n",
    "                            'hour': [hour_calculated]}))\n",
    "day_timestamp = date_from.iloc[0]\n",
    "day_in_string = str(day_calculated) + \".\" + str(month_calculated)+ \".\" + str(year_calculated)\n",
    "state_data_in_one_day_obj = get_state_by_timestamp(input_data, day_timestamp)\n",
    "\n",
    "write_float_data_on_list(f_write_on_sheet, state_data_in_one_day_obj)\n",
    "\n",
    "calculated_data = f_get_data()\n",
    "\n",
    "calculated_data_in_dict = {}\n",
    "calculated_data_in_dict.update({'Дата': [day_in_string]})\n",
    "values = calculated_data[0]\n",
    "names = calculated_data[1]\n",
    "for name, value in zip(names, values):\n",
    "    calculated_data_in_dict.update({name: [value]})\n",
    "    \n",
    "calculated_data_in_df = pd.DataFrame(calculated_data_in_dict)\n",
    "calculated_data_in_df.to_csv(str(day_calculated) + \".csv\")\n",
    "\n",
    "result_data = pd.read_csv(str(day_calculated) +\".csv\")\n",
    "result_data.iloc[0]"
   ]
  },
  {
   "cell_type": "markdown",
   "metadata": {},
   "source": [
    "# 3. Генерация общего файла с расчетами и предварительный просмотр\n",
    "\n",
    "Объединение множества файликов с расчетом для одного момента времени"
   ]
  },
  {
   "cell_type": "code",
   "execution_count": null,
   "metadata": {},
   "outputs": [],
   "source": [
    "result_data = pd.read_csv(\"28.csv\")\n",
    "for i in range(27, 1, -1):\n",
    "    calc_data = pd.read_csv(str(i) + \".csv\")\n",
    "    result_data = result_data.append(calc_data, ignore_index=True)\n",
    "result_data.to_csv(\"result_data.csv\")\n",
    "result_data.head()    "
   ]
  },
  {
   "cell_type": "markdown",
   "metadata": {},
   "source": [
    "Список параметров рассчитанных и некоторых входных"
   ]
  },
  {
   "cell_type": "code",
   "execution_count": null,
   "metadata": {},
   "outputs": [],
   "source": [
    "needed_param_list = []\n",
    "for namber, name in enumerate(result_data.columns):\n",
    "    print(str(namber) + ' ' + name)\n",
    "    needed_param_list.append(name)"
   ]
  },
  {
   "cell_type": "markdown",
   "metadata": {},
   "source": [
    "Первичное построение графиков"
   ]
  },
  {
   "cell_type": "code",
   "execution_count": null,
   "metadata": {},
   "outputs": [],
   "source": [
    "trace1_name = needed_param_list[12]\n",
    "trace1 = go.Scattergl(\n",
    "    x = result_data.index,\n",
    "    y = result_data[trace1_name],\n",
    "    name = trace1_name,\n",
    "    mode = 'lines'\n",
    ")\n",
    "\n",
    "trace2_name = needed_param_list[13]\n",
    "trace2 = go.Scattergl(\n",
    "    x = result_data.index,\n",
    "    y = result_data[trace2_name],\n",
    "    name = trace2_name,\n",
    "    mode = 'lines'\n",
    ")\n",
    "trace3_name = needed_param_list[14]\n",
    "trace3 = go.Scattergl(\n",
    "    x = result_data.index,\n",
    "    y = result_data[trace3_name],\n",
    "    name = trace3_name,\n",
    "    mode = 'lines'\n",
    ")\n",
    "\n",
    "trace4_name = needed_param_list[3]\n",
    "trace4 = go.Scattergl(\n",
    "    x = result_data.index,\n",
    "    y = result_data[trace4_name] / 100,\n",
    "    name = trace4_name + \"/100\",\n",
    "    mode = 'lines'\n",
    ")\n",
    "\n",
    "\n",
    "\n",
    "data = [trace1, trace2, trace3, trace4]\n",
    "\n",
    "\n",
    "layout = dict(title = 'Коэффициенты деградации от 28 до 2 февраля'\n",
    "             )\n",
    "\n",
    "fig = dict(data=data, layout=layout)\n",
    "\n",
    "iplot(fig, filename='basic-scatter')"
   ]
  }
 ],
 "metadata": {
  "kernelspec": {
   "display_name": "Python 3",
   "language": "python",
   "name": "python3"
  },
  "language_info": {
   "codemirror_mode": {
    "name": "ipython",
    "version": 3
   },
   "file_extension": ".py",
   "mimetype": "text/x-python",
   "name": "python",
   "nbconvert_exporter": "python",
   "pygments_lexer": "ipython3",
   "version": "3.7.3"
  }
 },
 "nbformat": 4,
 "nbformat_minor": 2
}
