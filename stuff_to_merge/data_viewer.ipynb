{
 "cells": [
  {
   "cell_type": "markdown",
   "metadata": {},
   "source": [
    "Загрука модулей"
   ]
  },
  {
   "cell_type": "code",
   "execution_count": null,
   "metadata": {},
   "outputs": [],
   "source": [
    "import pandas as pd\n",
    "import sys\n",
    "sys.path.append(\"../\")\n",
    "import plotly_workflow as pw\n",
    "import datetime"
   ]
  },
  {
   "cell_type": "code",
   "execution_count": null,
   "metadata": {},
   "outputs": [],
   "source": [
    "name_columns = {\"Qж ТМ\": \"Qж ТМ (Ш)\",\n",
    "               \"Qн ТМ\": \"Qн ТМ (Ш)\",\n",
    "               \"Обв ТМ\": \"Обв ТМ (Ш)\",\n",
    "               \"Рбуф ТМ\": \"Рбуф ТМ (Ш)\",\n",
    "                \"Рбуф\": \"Рбуф (Ш)\",\n",
    "                \"Рэцн  ТМ\": \"Рэцн  ТМ (Ш)\",\n",
    "                \"Qгаз ТМ\": \"Qгаз ТМ (Ш)\",\n",
    "               \"Рлин ТМ\": \"Рлин ТМ (Ш)\",\n",
    "               \"Рзатр\": \"Рзатр (Ш)\",\n",
    "               \"Рприем\": \"Рприем (Ш)\",\n",
    "               \"Загр. ПЭД (ТМ)\": \"Загр. ПЭД (ТМ) (Ш)\",\n",
    "               \"Нд\": \"Нд (Ш)\",\n",
    "               \"Темп. ПЭД\": \"Темп. ПЭД (Ш)\",\n",
    "               \"Тдвиг ТМ\": \"Тдвиг ТМ (Ш)\",\n",
    "               \"F вращ ТМ\": \"F вращ ТМ (Ш)\",\n",
    "               \"Dшт\": \"Dшт (Ш)\",\n",
    "               \"F ТМ\": \"F ТМ (Ш)\",\n",
    "               \"U AB (ТМ)\": \"U AB (ТМ) (Ш)\",\n",
    "               \"I\": \"I (Ш)\",\n",
    "               \"Tуст. (ТМ)\": \"Tуст. (ТМ) (Ш)\",\n",
    "               \"T на приёме нас.\": \"T на приёме нас. (Ш)\",\n",
    "               \"Темп. ж. ТМ\": \"Темп. ж. ТМ (Ш)\",\n",
    "               \"Тнасос ТМ\": \"Тнасос ТМ (Ш)\",\n",
    "               \"I A ТМ\": \"I A ТМ (Ш)\",\n",
    "               \"I C ТМ\": \"I C ТМ (Ш)\",\n",
    "               \"I В ТМ\": \"I В ТМ (Ш)\",\n",
    "               \"R изол ТМ\": \"R изол ТМ (Ш)\",\n",
    "               \"R изоляц.\": \"R изоляц. (Ш)\",\n",
    "               \"U раб.\": \"U раб. (Ш)\",\n",
    "                \n",
    "               \" Активная мощность\": \"Активная мощность (СУ)\",\n",
    "               \" Выходная частота ПЧ\": \"Выходная частота ПЧ (СУ)\",\n",
    "               \" Давление на приеме насоса (пласт. жидкость)\": \"Давление на приеме насоса (пласт. жидкость) (СУ)\",\n",
    "               \" Загрузка двигателя\": \"Загрузка двигателя (СУ)\",\n",
    "               \" Коэффициент мощности\": \"Коэффициент мощности (СУ)\",\n",
    "               \" Массовый дебит жидкости\": \"Массовый дебит жидкости (СУ)\",\n",
    "               \" Массовый дебит нефти\": \"Массовый дебит нефти (СУ)\",\n",
    "               \" Напряжение на выходе ТМПН\": \"Напряжение на выходе ТМПН (СУ)\",\n",
    "               \" Объемный дебит воды\": \"Объемный дебит воды (СУ)\",  \n",
    "               \" Объемный дебит газа\": \"Объемный дебит газа (СУ)\",\n",
    "               \" Объемный дебит жидкости\": \"Объемный дебит жидкости (СУ)\",\n",
    "               \" Объемный дебит нефти\": \"Объемный дебит нефти (СУ)\",\n",
    "               \" Полная мощность\": \"Полная мощность (СУ)\",\n",
    "               \" Процент обводненности\": \"Процент обводненности (СУ)\",\n",
    "               \" Температура на приеме насоса (пласт. жидкость)\": \"Температура на приеме насоса (пласт. жидкость) (СУ)\",\n",
    "               \"ГФ\": \"ГФ (СУ)\",\n",
    "        \n",
    "               \"Pline_atma\": \"P линю, атм (Модель, вход)\",\n",
    "               \"pbuf_atma\": \"P буф., атм (Модель, выход, адапт. Ш)\",\n",
    "               \"Pdis_atma\": \"P выкид ЭЦН, атм (Модель, выход)\",\n",
    "               \"Pint_atma\": \"P прием ЭЦН, атм (Модель, вход)\",\n",
    "               \"pwf_atma\": \"P прием ЭЦН (P заб. модели) атм (Модель, вход)\",\n",
    "               \"qliq_sm3day\": \"Q ж, м3/сут (Модель, вход)\",\n",
    "               \"fw_perc\": \"Обв, % (Модель, вход)\",\n",
    "               \"tbh_C\": \"T прием, С (Модель, вход)\",\n",
    "               \"twh_C\": \"T устья, С (Модель, выход)\",\n",
    "               \"Tsurf_C\": \"T поверхности, С (Модель, вход)\",\n",
    "               \"t_dis_C\": \"T выкид ЭЦН, С (Модель, выход)\",\n",
    "               \"Tintake_C\": \"T прием ЭЦН, C (Модель, вход)\",\n",
    "               \"choke.c_degrad_fr\": \"Коэффициент деградации для штуцера, ед (Модель, вход)\",\n",
    "               \"Pcas_atma\": \"P затрубное, атм (Модель, вход)\",\n",
    "               \"Hdyn_m\": \"H дин.ур., м (Модель, выход)\",\n",
    "               \"ESP.power_CS_calc_W\": \"Акт. мощность на СУ, (Модель, выход, адапт. Ш)\",\n",
    "               \"ESP.freq_Hz\": \"F тока, ГЦ (Модель, вход)\",\n",
    "               \"ESP.I_A\": \"I, А (Модель, выход)\",\n",
    "               \"ESP.U_V\": \"U, В (Модель, вход, СУ)\",\n",
    "               \"ESP.load_fr\": \"Загрузка двигателя, (Модель, выход)\",\n",
    "               \"ESP.ESPpump.EffiencyESP_d\": \"КПД ЭЦН, д.ед. (Модель, выход)\",\n",
    "               \"ESP.KsepTotal_fr\": \"К сеп. общий, д.ед. (Модель, выход)\",\n",
    "               \"ESP.KsepNat_fr\": \"К сеп. естесственной, д.ед. (Модель, выход)\",\n",
    "               \"ESP.KSepGasSep_fr\": \"К сеп. газосепаратора (Модель, вход)\",\n",
    "               \"ESP.c_calibr_head\": \"Коэффициент калибровки по напору - множитель (Модель, вход)\",\n",
    "                \"ESP.c_calibr_power\": \"Коэффициент калибровки по напору - множитель (Модель, вход)\",\n",
    "                \"ESP.c_calibr_rate\": \"Коэффициент калибровки по дебиту - множитель (Модель, вход)\",\n",
    "                \"ESP.power_motor_nom_W\": \"Номинальная мощность ПЭД, Вт (Модель, вход)\",\n",
    "                \"ESP.cable_dU_V\": \"dU в кабеле, В (Модель, выход)\",\n",
    "                \"ESP.dPower_GasSep_W\": \"Мощность, потребляемая газосепаратором (Модель, выход)\",\n",
    "                \"ESP.dPower_protector_W\": \"Мощность, потребляемая протектором (Модель, выход)\",\n",
    "                \"ESP.cable_dPower_W\": \"Мощность, потребляемая (рассеиваемая) кабелем (Модель, выход)\",\n",
    "                \"ESP.dPower_transform_W\": \"Мощность, потребляемая ТМПН (Модель, выход)\",\n",
    "                \"ESP.dPower_CS_W\": \"Мощность, потребляемая СУ (Модель, выход)\",\n",
    "                \"ESP.ESPpump.Powerfluid_Wt\": \"Мощность, передаваемая жидкости (Модель, выход)\",\n",
    "                \"ESP.ESPpump.PowerESP_Wt\": \"Мощность, передаваемая ЭЦН (Модель, выход)\",\n",
    "                \"ESP.power_shaft_W\": \"Мощность, передаваемая валу от ПЭД (Модель, выход)\",\n",
    "                \"ESP.power_motor_W\": \"Мощность, передаваемая ПЭД (Модель, выход)\",\n",
    "                \"ESP.cable_power_W\": \"Мощность, передаваемая кабелю (Модель, выход)\",\n",
    "                \"ESP.power_CS_teor_calc_W\": \"Мощность, передаваемая СУ (Модель, выход,  адапт. СУ)\",\n",
    "                \"calibr_multiply\": \"Произведение калибровок по мощности и напору (Постобработка)\"\n",
    "               }\n",
    "\n",
    "def rename_columns(df, columns_name_dict = name_columns):\n",
    "    for i in df.columns:\n",
    "        if i in columns_name_dict.keys():\n",
    "            df = df.rename(columns={i: name_columns[i] })\n",
    "    return df\n",
    "\n",
    "def prepare_df(df):\n",
    "    columns_to_delete = ['d', 'Unnamed: 0', 'Unnamed: 42', 'Unnamed: 39']\n",
    "    for i in  columns_to_delete:\n",
    "        if i in df.columns:\n",
    "            del df[i]\n",
    "    #df = df.iloc[1:]\n",
    "    return df"
   ]
  },
  {
   "cell_type": "markdown",
   "metadata": {},
   "source": [
    "Загрузка исходных данных"
   ]
  },
  {
   "cell_type": "code",
   "execution_count": null,
   "metadata": {},
   "outputs": [],
   "source": [
    "start = datetime.datetime(2019,1,2)\n",
    "end = datetime.datetime(2019,2,27)"
   ]
  },
  {
   "cell_type": "code",
   "execution_count": null,
   "metadata": {},
   "outputs": [],
   "source": [
    "data_mark = \" обработка 23.09.2019\""
   ]
  },
  {
   "cell_type": "code",
   "execution_count": null,
   "metadata": {},
   "outputs": [],
   "source": [
    "prepared_data = pd.read_csv(\"input_data.csv\")\n",
    "prepared_data.index = pd.to_datetime(prepared_data[\"Unnamed: 0\"])\n",
    "prepared_data = prepared_data[(prepared_data.index > start) & (prepared_data.index < end)]\n",
    "prepared_data = prepare_df(prepared_data)\n",
    "prepared_data = rename_columns(prepared_data)\n",
    "prepared_data.head()"
   ]
  },
  {
   "cell_type": "markdown",
   "metadata": {},
   "source": [
    "Построение графиков для исходных данных"
   ]
  },
  {
   "cell_type": "code",
   "execution_count": null,
   "metadata": {},
   "outputs": [],
   "source": [
    "traces = pw.create_traces_list_for_all_columms(prepared_data)\n",
    "data = traces\n",
    "pw.plot_func(data, 'Входные данные 1 окно' + data_mark, 'Входные данные 1 окно' + data_mark + '.html')"
   ]
  },
  {
   "cell_type": "code",
   "execution_count": null,
   "metadata": {},
   "outputs": [],
   "source": [
    "traces = pw.create_traces_list_for_all_columms(prepared_data)\n",
    "data = traces\n",
    "pw.plot_subplots(data, 'Входные данные 2 окна' + data_mark + '.html', True)"
   ]
  },
  {
   "cell_type": "markdown",
   "metadata": {},
   "source": [
    "Загрузка рассчитанных значений"
   ]
  },
  {
   "cell_type": "code",
   "execution_count": null,
   "metadata": {},
   "outputs": [],
   "source": [
    "result_df = pd.read_csv(\"calibr_multiply.csv\")\n",
    "result_df.index = pd.to_datetime(result_df[\"Unnamed: 0\"])\n",
    "result_df = prepare_df(result_df)\n",
    "result_df = rename_columns(result_df)"
   ]
  },
  {
   "cell_type": "markdown",
   "metadata": {},
   "source": [
    "Построение графиков после расчета"
   ]
  },
  {
   "cell_type": "code",
   "execution_count": null,
   "metadata": {},
   "outputs": [],
   "source": [
    "traces = pw.create_traces_list_for_all_columms(result_df)\n",
    "data = traces\n",
    "pw.plot_subplots(data, 'Итоговый результат' + data_mark + '.html', True)"
   ]
  },
  {
   "cell_type": "code",
   "execution_count": null,
   "metadata": {},
   "outputs": [],
   "source": []
  },
  {
   "cell_type": "code",
   "execution_count": null,
   "metadata": {},
   "outputs": [],
   "source": []
  },
  {
   "cell_type": "code",
   "execution_count": null,
   "metadata": {},
   "outputs": [],
   "source": [
    "#df = pd.read_csv(\"solution_surface.csv\")\n",
    "#del df[\"Unnamed: 0\"]\n",
    "#df.index = df.columns\n",
    "#df.head()\n",
    "#z = values\n",
    "#x = df.columns\n",
    "#y = df.columns\n",
    "#data=[\n",
    "#    go.Surface( x = x, y = y , z=z)]\n",
    "#               \n",
    "#              \n",
    "#        \n",
    "#        \n",
    "#layout =  dict(\n",
    "#    title=go.layout.Title(\n",
    "#        text=\"Ошибка\"\n",
    "#    ),\n",
    "#    xaxis=go.layout.XAxis(\n",
    "#        title=go.layout.xaxis.Title(\n",
    "#            text=\"c_calibr_power\"\n",
    "#        )\n",
    "#    ),\n",
    "#    yaxis=go.layout.YAxis(\n",
    "#        title=go.layout.yaxis.Title(\n",
    "#            text=\"c_calibr_power\"\n",
    "#            )\n",
    "#        )\n",
    "#    )\n",
    "#\n",
    "#fig = dict(data=data, layout=layout)\n",
    "#\n",
    "#    # fig = make_subplots(rows=8, cols=1)\n",
    "#\n",
    "#plot(fig, filename='surface' + data_mark + '.html')\n",
    "\n"
   ]
  },
  {
   "cell_type": "code",
   "execution_count": null,
   "metadata": {},
   "outputs": [],
   "source": []
  },
  {
   "cell_type": "code",
   "execution_count": null,
   "metadata": {},
   "outputs": [],
   "source": []
  },
  {
   "cell_type": "code",
   "execution_count": null,
   "metadata": {},
   "outputs": [],
   "source": []
  },
  {
   "cell_type": "code",
   "execution_count": null,
   "metadata": {},
   "outputs": [],
   "source": []
  },
  {
   "cell_type": "code",
   "execution_count": null,
   "metadata": {},
   "outputs": [],
   "source": []
  },
  {
   "cell_type": "code",
   "execution_count": null,
   "metadata": {},
   "outputs": [],
   "source": []
  },
  {
   "cell_type": "code",
   "execution_count": null,
   "metadata": {},
   "outputs": [],
   "source": []
  },
  {
   "cell_type": "code",
   "execution_count": null,
   "metadata": {},
   "outputs": [],
   "source": []
  },
  {
   "cell_type": "code",
   "execution_count": null,
   "metadata": {},
   "outputs": [],
   "source": []
  },
  {
   "cell_type": "code",
   "execution_count": null,
   "metadata": {},
   "outputs": [],
   "source": []
  },
  {
   "cell_type": "code",
   "execution_count": null,
   "metadata": {},
   "outputs": [],
   "source": []
  },
  {
   "cell_type": "code",
   "execution_count": null,
   "metadata": {},
   "outputs": [],
   "source": []
  },
  {
   "cell_type": "code",
   "execution_count": null,
   "metadata": {},
   "outputs": [],
   "source": []
  },
  {
   "cell_type": "code",
   "execution_count": null,
   "metadata": {},
   "outputs": [],
   "source": []
  },
  {
   "cell_type": "code",
   "execution_count": null,
   "metadata": {},
   "outputs": [],
   "source": []
  },
  {
   "cell_type": "code",
   "execution_count": null,
   "metadata": {},
   "outputs": [],
   "source": []
  },
  {
   "cell_type": "code",
   "execution_count": null,
   "metadata": {},
   "outputs": [],
   "source": []
  },
  {
   "cell_type": "code",
   "execution_count": null,
   "metadata": {},
   "outputs": [],
   "source": []
  },
  {
   "cell_type": "code",
   "execution_count": null,
   "metadata": {},
   "outputs": [],
   "source": []
  },
  {
   "cell_type": "code",
   "execution_count": null,
   "metadata": {},
   "outputs": [],
   "source": []
  },
  {
   "cell_type": "code",
   "execution_count": null,
   "metadata": {},
   "outputs": [],
   "source": []
  },
  {
   "cell_type": "code",
   "execution_count": null,
   "metadata": {},
   "outputs": [],
   "source": []
  },
  {
   "cell_type": "code",
   "execution_count": null,
   "metadata": {},
   "outputs": [],
   "source": []
  },
  {
   "cell_type": "code",
   "execution_count": null,
   "metadata": {},
   "outputs": [],
   "source": []
  },
  {
   "cell_type": "code",
   "execution_count": null,
   "metadata": {},
   "outputs": [],
   "source": []
  },
  {
   "cell_type": "code",
   "execution_count": null,
   "metadata": {},
   "outputs": [],
   "source": []
  },
  {
   "cell_type": "code",
   "execution_count": null,
   "metadata": {},
   "outputs": [],
   "source": []
  },
  {
   "cell_type": "code",
   "execution_count": null,
   "metadata": {},
   "outputs": [],
   "source": []
  },
  {
   "cell_type": "code",
   "execution_count": null,
   "metadata": {},
   "outputs": [],
   "source": []
  },
  {
   "cell_type": "code",
   "execution_count": null,
   "metadata": {},
   "outputs": [],
   "source": []
  },
  {
   "cell_type": "code",
   "execution_count": null,
   "metadata": {},
   "outputs": [],
   "source": []
  },
  {
   "cell_type": "code",
   "execution_count": null,
   "metadata": {},
   "outputs": [],
   "source": []
  },
  {
   "cell_type": "code",
   "execution_count": null,
   "metadata": {},
   "outputs": [],
   "source": []
  },
  {
   "cell_type": "code",
   "execution_count": null,
   "metadata": {},
   "outputs": [],
   "source": []
  },
  {
   "cell_type": "code",
   "execution_count": null,
   "metadata": {},
   "outputs": [],
   "source": []
  },
  {
   "cell_type": "code",
   "execution_count": null,
   "metadata": {},
   "outputs": [],
   "source": []
  },
  {
   "cell_type": "code",
   "execution_count": null,
   "metadata": {},
   "outputs": [],
   "source": []
  },
  {
   "cell_type": "code",
   "execution_count": null,
   "metadata": {},
   "outputs": [],
   "source": []
  },
  {
   "cell_type": "code",
   "execution_count": null,
   "metadata": {},
   "outputs": [],
   "source": []
  },
  {
   "cell_type": "code",
   "execution_count": null,
   "metadata": {},
   "outputs": [],
   "source": []
  },
  {
   "cell_type": "code",
   "execution_count": null,
   "metadata": {},
   "outputs": [],
   "source": []
  },
  {
   "cell_type": "code",
   "execution_count": null,
   "metadata": {},
   "outputs": [],
   "source": []
  },
  {
   "cell_type": "code",
   "execution_count": null,
   "metadata": {},
   "outputs": [],
   "source": []
  },
  {
   "cell_type": "code",
   "execution_count": null,
   "metadata": {},
   "outputs": [],
   "source": []
  },
  {
   "cell_type": "code",
   "execution_count": null,
   "metadata": {},
   "outputs": [],
   "source": []
  },
  {
   "cell_type": "code",
   "execution_count": null,
   "metadata": {},
   "outputs": [],
   "source": []
  },
  {
   "cell_type": "code",
   "execution_count": null,
   "metadata": {},
   "outputs": [],
   "source": []
  }
 ],
 "metadata": {
  "kernelspec": {
   "display_name": "Python 3",
   "language": "python",
   "name": "python3"
  },
  "language_info": {
   "codemirror_mode": {
    "name": "ipython",
    "version": 3
   },
   "file_extension": ".py",
   "mimetype": "text/x-python",
   "name": "python",
   "nbconvert_exporter": "python",
   "pygments_lexer": "ipython3",
   "version": "3.7.3"
  }
 },
 "nbformat": 4,
 "nbformat_minor": 2
}
