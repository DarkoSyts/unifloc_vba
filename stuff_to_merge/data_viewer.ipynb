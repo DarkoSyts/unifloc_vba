{
 "cells": [
  {
   "cell_type": "markdown",
   "metadata": {},
   "source": [
    "Загрука модулей"
   ]
  },
  {
   "cell_type": "code",
   "execution_count": null,
   "metadata": {},
   "outputs": [],
   "source": [
    "import pandas as pd\n",
    "import sys\n",
    "sys.path.append(\"../\")\n",
    "import plotly_workflow as pw\n",
    "import datetime\n",
    "from plotly.offline import download_plotlyjs, plot\n",
    "import plotly.figure_factory as ff\n",
    "import plotly.graph_objs as go\n",
    "from plotly.subplots import make_subplots"
   ]
  },
  {
   "cell_type": "code",
   "execution_count": null,
   "metadata": {},
   "outputs": [],
   "source": []
  },
  {
   "cell_type": "code",
   "execution_count": null,
   "metadata": {},
   "outputs": [],
   "source": [
    "name_columns = {\"Qж ТМ\": \"Qж ТМ (Ш)\",\n",
    "               \"Qн ТМ\": \"Qн ТМ (Ш)\",\n",
    "               \"Обв ТМ\": \"Обв ТМ (Ш)\",\n",
    "               \"Рбуф ТМ\": \"Рбуф ТМ (Ш)\",\n",
    "                \"Рбуф\": \"Рбуф (Ш)\",\n",
    "                \"Рэцн  ТМ\": \"Рэцн  ТМ (Ш)\",\n",
    "                \"Qгаз ТМ\": \"Qгаз ТМ (Ш)\",\n",
    "               \"Рлин ТМ\": \"Рлин ТМ (Ш)\",\n",
    "               \"Рзатр\": \"Рзатр (Ш)\",\n",
    "               \"Рприем\": \"Рприем (Ш)\",\n",
    "               \"Загр. ПЭД (ТМ)\": \"Загр. ПЭД (ТМ) (Ш)\",\n",
    "               \"Нд\": \"Нд (Ш)\",\n",
    "               \"Темп. ПЭД\": \"Темп. ПЭД (Ш)\",\n",
    "               \"Тдвиг ТМ\": \"Тдвиг ТМ (Ш)\",\n",
    "               \"F вращ ТМ\": \"F вращ ТМ (Ш)\",\n",
    "               \"Dшт\": \"Dшт (Ш)\",\n",
    "               \"F ТМ\": \"F ТМ (Ш)\",\n",
    "               \"U AB (ТМ)\": \"U AB (ТМ) (Ш)\",\n",
    "               \"I\": \"I (Ш)\",\n",
    "               \"Tуст. (ТМ)\": \"Tуст. (ТМ) (Ш)\",\n",
    "               \"T на приёме нас.\": \"T на приёме нас. (Ш)\",\n",
    "               \"Темп. ж. ТМ\": \"Темп. ж. ТМ (Ш)\",\n",
    "               \"Тнасос ТМ\": \"Тнасос ТМ (Ш)\",\n",
    "               \"I A ТМ\": \"I A ТМ (Ш)\",\n",
    "               \"I C ТМ\": \"I C ТМ (Ш)\",\n",
    "               \"I В ТМ\": \"I В ТМ (Ш)\",\n",
    "               \"R изол ТМ\": \"R изол ТМ (Ш)\",\n",
    "               \"R изоляц.\": \"R изоляц. (Ш)\",\n",
    "               \"U раб.\": \"U раб. (Ш)\",\n",
    "                \n",
    "               \" Активная мощность\": \"Активная мощность (СУ)\",\n",
    "               \" Выходная частота ПЧ\": \"Выходная частота ПЧ (СУ)\",\n",
    "               \" Давление на приеме насоса (пласт. жидкость)\": \"Давление на приеме насоса (пласт. жидкость) (СУ)\",\n",
    "               \" Загрузка двигателя\": \"Загрузка двигателя (СУ)\",\n",
    "               \" Коэффициент мощности\": \"Коэффициент мощности (СУ)\",\n",
    "               \" Массовый дебит жидкости\": \"Массовый дебит жидкости (СУ)\",\n",
    "               \" Массовый дебит нефти\": \"Массовый дебит нефти (СУ)\",\n",
    "               \" Напряжение на выходе ТМПН\": \"Напряжение на выходе ТМПН (СУ)\",\n",
    "               \" Объемный дебит воды\": \"Объемный дебит воды (СУ)\",  \n",
    "               \" Объемный дебит газа\": \"Объемный дебит газа (СУ)\",\n",
    "               \" Объемный дебит жидкости\": \"Объемный дебит жидкости (СУ)\",\n",
    "               \" Объемный дебит нефти\": \"Объемный дебит нефти (СУ)\",\n",
    "               \" Полная мощность\": \"Полная мощность (СУ)\",\n",
    "               \" Процент обводненности\": \"Процент обводненности (СУ)\",\n",
    "               \" Температура на приеме насоса (пласт. жидкость)\": \"Температура на приеме насоса (пласт. жидкость) (СУ)\",\n",
    "               \"ГФ\": \"ГФ (СУ)\",\n",
    "        \n",
    "               \"Pline_atma\": \"P лин., атм (Модель, вход)\",\n",
    "               \"pbuf_atma\": \"P буф., атм (Модель, выход, адапт. Ш)\",\n",
    "               \"Pdis_atma\": \"P выкид ЭЦН, атм (Модель, выход)\",\n",
    "               \"Pint_atma\": \"P прием ЭЦН, атм (Модель, вход)\",\n",
    "               \"pwf_atma\": \"P прием ЭЦН (P заб. модели) атм (Модель, вход)\",\n",
    "               \"qliq_sm3day\": \"Q ж, м3/сут (Модель, вход)\",\n",
    "               \"fw_perc\": \"Обв, % (Модель, вход)\",\n",
    "               \"tbh_C\": \"T прием, С (Модель, вход)\",\n",
    "               \"twh_C\": \"T устья, С (Модель, выход)\",\n",
    "               \"Tsurf_C\": \"T поверхности, С (Модель, вход)\",\n",
    "               \"t_dis_C\": \"T выкид ЭЦН, С (Модель, выход)\",\n",
    "               \"Tintake_C\": \"T прием ЭЦН, C (Модель, вход)\",\n",
    "               \"choke.c_degrad_fr\": \"Коэффициент деградации для штуцера, ед (Модель, вход)\",\n",
    "               \"Pcas_atma\": \"P затрубное, атм (Модель, вход)\",\n",
    "               \"Hdyn_m\": \"H дин.ур., м (Модель, выход)\",\n",
    "               \"ESP.power_CS_calc_W\": \"Акт. мощность на СУ, (Модель, выход, адапт. СУ)\",\n",
    "               \"ESP.freq_Hz\": \"F тока, ГЦ (Модель, вход)\",\n",
    "               \"ESP.I_A\": \"I, А (Модель, выход)\",\n",
    "               \"ESP.U_V\": \"U, В (Модель, вход, СУ)\",\n",
    "               \"ESP.load_fr\": \"Загрузка двигателя, (Модель, выход)\",\n",
    "               \"ESP.ESPpump.EffiencyESP_d\": \"КПД ЭЦН, д.ед. (Модель, выход)\",\n",
    "               \"ESP.KsepTotal_fr\": \"К сеп. общий, д.ед. (Модель, выход)\",\n",
    "               \"ESP.KsepNat_fr\": \"К сеп. естесственной, д.ед. (Модель, выход)\",\n",
    "               \"ESP.KSepGasSep_fr\": \"К сеп. газосепаратора (Модель, вход)\",\n",
    "               \"ESP.c_calibr_head\": \"Коэффициент калибровки по напору - множитель (Модель, вход)\",\n",
    "                \"ESP.c_calibr_power\": \"Коэффициент калибровки по мощности - множитель (Модель, вход)\",\n",
    "                \"ESP.c_calibr_rate\": \"Коэффициент калибровки по дебиту - множитель (Модель, вход)\",\n",
    "                \"ESP.power_motor_nom_W\": \"Номинальная мощность ПЭД, Вт (Модель, вход)\",\n",
    "                \"ESP.cable_dU_V\": \"dU в кабеле, В (Модель, выход)\",\n",
    "                \"ESP.dPower_GasSep_W\": \"Мощность, потребляемая газосепаратором (Модель, выход)\",\n",
    "                \"ESP.dPower_protector_W\": \"Мощность, потребляемая протектором (Модель, выход)\",\n",
    "                \"ESP.cable_dPower_W\": \"Мощность, потребляемая (рассеиваемая) кабелем (Модель, выход)\",\n",
    "                \"ESP.dPower_transform_W\": \"Мощность, потребляемая ТМПН (Модель, выход)\",\n",
    "                \"ESP.dPower_CS_W\": \"Мощность, потребляемая СУ (Модель, выход)\",\n",
    "                \"ESP.ESPpump.Powerfluid_Wt\": \"Мощность, передаваемая жидкости (Модель, выход)\",\n",
    "                \"ESP.ESPpump.PowerESP_Wt\": \"Мощность, передаваемая ЭЦН (Модель, выход)\",\n",
    "                \"ESP.power_shaft_W\": \"Мощность, передаваемая валу от ПЭД (Модель, выход)\",\n",
    "                \"ESP.power_motor_W\": \"Мощность, передаваемая ПЭД (Модель, выход)\",\n",
    "                \"ESP.cable_power_W\": \"Мощность, передаваемая кабелю (Модель, выход)\",\n",
    "                \"ESP.power_CS_teor_calc_W\": \"Мощность, передаваемая СУ (Модель, выход,  адапт. СУ)\",\n",
    "                \"calibr_multiply\": \"Произведение калибровок по мощности и напору (Постобработка)\"\n",
    "               }\n",
    "columns_to_delete = [\"T поверхности, С (Модель, вход)\",\n",
    "                    \"Мощность, потребляемая газосепаратором (Модель, выход)\",\n",
    "                    \"Мощность, потребляемая протектором (Модель, выход)\",\n",
    "                    \"Номинальная мощность ПЭД, Вт (Модель, вход)\",\n",
    "                    \"P затрубное, атм (Модель, вход)\",\n",
    "                     \"H дин.ур., м (Модель, выход)\",\n",
    "                     \"К сеп. газосепаратора (Модель, вход)\",\n",
    "                     \"Коэффициент калибровки по дебиту - множитель (Модель, вход)\",\n",
    "                     \"Коэффициент деградации для штуцера, ед (Модель, вход)\",\n",
    "                     \"F тока, ГЦ (Модель, вход)\"\n",
    "                     \n",
    "                    ]\n",
    "\n",
    "columns_to_choice = [\"Коэффициент калибровки по напору - множитель (Модель, вход)\",\n",
    "                     \"Коэффициент калибровки по мощности - множитель (Модель, вход)\",\n",
    "                     \"Произведение калибровок по мощности и напору (Постобработка)\",\n",
    "                     \"Мощность, передаваемая СУ (Модель, выход,  адапт. СУ)\",\n",
    "                     \n",
    "                     \"К сеп. общий, д.ед. (Модель, выход)\",\n",
    "                    \"КПД ЭЦН, д.ед. (Модель, выход)\",\n",
    "                     \"Q ж, м3/сут (Модель, вход)\",\n",
    "                     \"ГФ (СУ)\",\n",
    "                     \"Обв, % (Модель, вход)\",\n",
    "                     \"P буф., атм (Модель, выход, адапт. Ш)\",\n",
    "                     \"P прием ЭЦН, атм (Модель, вход)\",\n",
    "                    ]\n",
    "\n",
    "columns_to_careful_analisys = [\"Q ж, м3/сут (Модель, вход)\",\n",
    "                               \"Коэффициент калибровки по напору - множитель (Модель, вход)\",\n",
    "                             \"Коэффициент калибровки по мощности - множитель (Модель, вход)\",\n",
    "                               \"Мощность, передаваемая СУ (Модель, выход,  адапт. СУ)\"\n",
    "                               \n",
    "                              ]\n",
    "\n",
    "def prepare_to_corr_analys(df, columns_to_delete = columns_to_delete):\n",
    "    new_df = df.copy()\n",
    "    for i in columns_to_delete:\n",
    "        del new_df[i]\n",
    "    return new_df\n",
    "def rename_columns(df, columns_name_dict = name_columns):\n",
    "    for i in df.columns:\n",
    "        if i in columns_name_dict.keys():\n",
    "            df = df.rename(columns={i: name_columns[i] })\n",
    "    return df\n",
    "\n",
    "\n",
    "def prepare_df(df):\n",
    "    columns_to_delete = ['d', 'Unnamed: 0', 'Unnamed: 42', 'Unnamed: 39']\n",
    "    for i in  columns_to_delete:\n",
    "        if i in df.columns:\n",
    "            del df[i]\n",
    "    #df = df.iloc[1:]\n",
    "    return df"
   ]
  },
  {
   "cell_type": "markdown",
   "metadata": {},
   "source": [
    "Загрузка исходных данных"
   ]
  },
  {
   "cell_type": "code",
   "execution_count": null,
   "metadata": {},
   "outputs": [],
   "source": [
    "start = datetime.datetime(2019,1,2)\n",
    "end = datetime.datetime(2019,2,27)"
   ]
  },
  {
   "cell_type": "code",
   "execution_count": null,
   "metadata": {},
   "outputs": [],
   "source": [
    "data_mark = \" VFM 28.09.2019\""
   ]
  },
  {
   "cell_type": "code",
   "execution_count": null,
   "metadata": {},
   "outputs": [],
   "source": [
    "prepared_data = pd.read_csv(\"new_input_data.csv\")\n",
    "prepared_data.index = pd.to_datetime(prepared_data[\"Unnamed: 0\"])\n",
    "prepared_data = prepared_data[(prepared_data.index > start) & (prepared_data.index < end)]\n",
    "prepared_data = prepare_df(prepared_data)\n",
    "prepared_data = rename_columns(prepared_data)\n",
    "prepared_data.head()"
   ]
  },
  {
   "cell_type": "markdown",
   "metadata": {},
   "source": [
    "Построение графиков для исходных данных"
   ]
  },
  {
   "cell_type": "code",
   "execution_count": null,
   "metadata": {},
   "outputs": [],
   "source": [
    "input_traces = pw.create_traces_list_for_all_columms(prepared_data)\n",
    "data = input_traces\n",
    "pw.plot_func(data, 'Входные данные 1 окно' + data_mark, 'Входные данные 1 окно' + data_mark + '.html')\n",
    "pw.plot_subplots(data, 'Входные данные 2 окна' + data_mark + '.html', True)"
   ]
  },
  {
   "cell_type": "markdown",
   "metadata": {},
   "source": [
    "Загрузка рассчитанных значений"
   ]
  },
  {
   "cell_type": "code",
   "execution_count": null,
   "metadata": {},
   "outputs": [],
   "source": [
    "result_df = pd.read_csv(\"28_09_test_vfm_2_finished.csv\")\n",
    "result_df = prepare_df(result_df)\n",
    "result_df.index = pd.to_datetime(result_df['Time'])\n",
    "result_df = result_df.dropna()\n",
    "result_df = rename_columns(result_df)"
   ]
  },
  {
   "cell_type": "code",
   "execution_count": null,
   "metadata": {},
   "outputs": [],
   "source": [
    "result_df.head()"
   ]
  },
  {
   "cell_type": "markdown",
   "metadata": {},
   "source": [
    "Построение графиков после расчета"
   ]
  },
  {
   "cell_type": "code",
   "execution_count": null,
   "metadata": {},
   "outputs": [],
   "source": [
    "output_traces = pw.create_traces_list_for_all_columms(result_df)\n",
    "data = output_traces\n",
    "pw.plot_subplots(data, 'Итоговый результат' + data_mark + '.html', True)"
   ]
  },
  {
   "cell_type": "markdown",
   "metadata": {},
   "source": [
    "Построение единого графика"
   ]
  },
  {
   "cell_type": "code",
   "execution_count": null,
   "metadata": {},
   "outputs": [],
   "source": [
    "all_traces = pw.connect_traces(input_traces, output_traces)\n",
    "data = all_traces\n",
    "pw.plot_subplots(data, 'Единый результат с исходными и рассчитанными данными' + data_mark + '.html', True)"
   ]
  },
  {
   "cell_type": "code",
   "execution_count": null,
   "metadata": {},
   "outputs": [],
   "source": [
    "#df = pd.read_csv(\"solution_surface.csv\")\n",
    "#del df[\"Unnamed: 0\"]\n",
    "#df.index = df.columns\n",
    "#df.head()\n",
    "#z = values\n",
    "#x = df.columns\n",
    "#y = df.columns\n",
    "#data=[\n",
    "#    go.Surface( x = x, y = y , z=z)]\n",
    "#               \n",
    "#              \n",
    "#        \n",
    "#        \n",
    "#layout =  dict(\n",
    "#    title=go.layout.Title(\n",
    "#        text=\"Ошибка\"\n",
    "#    ),\n",
    "#    xaxis=go.layout.XAxis(\n",
    "#        title=go.layout.xaxis.Title(\n",
    "#            text=\"c_calibr_power\"\n",
    "#        )\n",
    "#    ),\n",
    "#    yaxis=go.layout.YAxis(\n",
    "#        title=go.layout.yaxis.Title(\n",
    "#            text=\"c_calibr_power\"\n",
    "#            )\n",
    "#        )\n",
    "#    )\n",
    "#\n",
    "#fig = dict(data=data, layout=layout)\n",
    "#\n",
    "#    # fig = make_subplots(rows=8, cols=1)\n",
    "#\n",
    "#plot(fig, filename='surface' + data_mark + '.html')\n",
    "\n"
   ]
  },
  {
   "cell_type": "code",
   "execution_count": null,
   "metadata": {},
   "outputs": [],
   "source": []
  },
  {
   "cell_type": "code",
   "execution_count": null,
   "metadata": {},
   "outputs": [],
   "source": []
  },
  {
   "cell_type": "code",
   "execution_count": null,
   "metadata": {},
   "outputs": [],
   "source": []
  },
  {
   "cell_type": "markdown",
   "metadata": {},
   "source": [
    "Обезразмеревание параметров и построение с ними графиков"
   ]
  },
  {
   "cell_type": "code",
   "execution_count": null,
   "metadata": {},
   "outputs": [],
   "source": [
    "result_df_dimensionless = result_df.copy()\n",
    "for i in result_df_dimensionless.columns:\n",
    "    print(i)\n",
    "    new_new = result_df_dimensionless[i]/result_df_dimensionless[i].max()\n",
    "    result_df_dimensionless[i] = new_new\n",
    "    "
   ]
  },
  {
   "cell_type": "code",
   "execution_count": null,
   "metadata": {},
   "outputs": [],
   "source": [
    "dimensionless_traces = pw.create_traces_list_for_all_columms(result_df_dimensionless)\n",
    "data = dimensionless_traces\n",
    "pw.plot_subplots(data, 'результат с обезразмеренными рассчитанными данными' + data_mark + '.html', True)"
   ]
  },
  {
   "cell_type": "code",
   "execution_count": null,
   "metadata": {},
   "outputs": [],
   "source": []
  },
  {
   "cell_type": "markdown",
   "metadata": {},
   "source": [
    "Построение тепловой карты для анализа корреляций между параметрами"
   ]
  },
  {
   "cell_type": "code",
   "execution_count": null,
   "metadata": {},
   "outputs": [],
   "source": [
    "result_df_corr = prepare_to_corr_analys(result_df)\n",
    "corrs = result_df_corr.corr()"
   ]
  },
  {
   "cell_type": "code",
   "execution_count": null,
   "metadata": {},
   "outputs": [],
   "source": [
    "def plot_corr_heatmap(df, filename_str):\n",
    "    corrs = df.corr()\n",
    "    figure = ff.create_annotated_heatmap(\n",
    "       z=corrs.values,\n",
    "       x=list(corrs.columns),\n",
    "       y=list(corrs.index),\n",
    "       annotation_text=corrs.round(2).values,\n",
    "       showscale=True)\n",
    "    figure.layout.update(\n",
    "        margin=go.layout.Margin(\n",
    "            l=400,\n",
    "            r=50,\n",
    "            b=100,\n",
    "            t=250\n",
    "        ))\n",
    "    filename_str +='.html'\n",
    "    plot(figure,filename=filename_str)"
   ]
  },
  {
   "cell_type": "code",
   "execution_count": null,
   "metadata": {},
   "outputs": [],
   "source": [
    "#figure = ff.create_scatterplotmatrix(result_df_corr, diag='histogram')\n",
    "#figure.layout.update(width=1000, height=1000)\n",
    "#plot(figure,filename='scatterplot_1354.html')"
   ]
  },
  {
   "cell_type": "code",
   "execution_count": null,
   "metadata": {},
   "outputs": [],
   "source": [
    "figure = ff.create_scatterplotmatrix(result_df_corr, diag='histogram')\n",
    "figure.layout.update(width=1000, height=1000)\n",
    "plot(figure,filename='scatterplot_1354.html')"
   ]
  },
  {
   "cell_type": "code",
   "execution_count": null,
   "metadata": {},
   "outputs": [],
   "source": []
  },
  {
   "cell_type": "code",
   "execution_count": null,
   "metadata": {},
   "outputs": [],
   "source": []
  },
  {
   "cell_type": "code",
   "execution_count": null,
   "metadata": {},
   "outputs": [],
   "source": []
  },
  {
   "cell_type": "code",
   "execution_count": null,
   "metadata": {},
   "outputs": [],
   "source": []
  },
  {
   "cell_type": "code",
   "execution_count": null,
   "metadata": {},
   "outputs": [],
   "source": [
    "all_data = result_df.join(prepared_data)"
   ]
  },
  {
   "cell_type": "code",
   "execution_count": null,
   "metadata": {},
   "outputs": [],
   "source": []
  },
  {
   "cell_type": "code",
   "execution_count": null,
   "metadata": {},
   "outputs": [],
   "source": [
    "small_df = all_data[columns_to_choice]"
   ]
  },
  {
   "cell_type": "code",
   "execution_count": null,
   "metadata": {},
   "outputs": [],
   "source": [
    "plot_corr_heatmap(small_df, \"Корреляционная карта для нужных параметров\")"
   ]
  },
  {
   "cell_type": "code",
   "execution_count": null,
   "metadata": {},
   "outputs": [],
   "source": [
    "figure = ff.create_scatterplotmatrix(small_df, diag='histogram')\n",
    "figure.layout.update(width=1000, height=1000)\n",
    "plot(figure,filename=(\"Корреляционная карта для нужных параметров 2.html\"))"
   ]
  },
  {
   "cell_type": "code",
   "execution_count": null,
   "metadata": {},
   "outputs": [],
   "source": [
    "very_small_df = all_data[columns_to_careful_analisys]"
   ]
  },
  {
   "cell_type": "code",
   "execution_count": null,
   "metadata": {},
   "outputs": [],
   "source": [
    "figure_corr = ff.create_scatterplotmatrix(very_small_df, diag='histogram',\n",
    "                                     text = columns_to_careful_analisys\n",
    "                                        )\n",
    "                                    \n",
    "figure_corr.layout.update(width=1500, height=1500,\n",
    "                         font=dict(size=8))\n",
    "                         \n",
    "plot(figure_corr,filename=(\"Корреляционная карта для нужных параметров 2.html\"))"
   ]
  },
  {
   "cell_type": "code",
   "execution_count": null,
   "metadata": {},
   "outputs": [],
   "source": []
  },
  {
   "cell_type": "code",
   "execution_count": null,
   "metadata": {},
   "outputs": [],
   "source": []
  },
  {
   "cell_type": "code",
   "execution_count": null,
   "metadata": {},
   "outputs": [],
   "source": []
  },
  {
   "cell_type": "code",
   "execution_count": null,
   "metadata": {},
   "outputs": [],
   "source": []
  },
  {
   "cell_type": "code",
   "execution_count": null,
   "metadata": {},
   "outputs": [],
   "source": []
  },
  {
   "cell_type": "code",
   "execution_count": null,
   "metadata": {},
   "outputs": [],
   "source": []
  },
  {
   "cell_type": "code",
   "execution_count": null,
   "metadata": {},
   "outputs": [],
   "source": []
  },
  {
   "cell_type": "code",
   "execution_count": null,
   "metadata": {},
   "outputs": [],
   "source": []
  },
  {
   "cell_type": "code",
   "execution_count": null,
   "metadata": {},
   "outputs": [],
   "source": []
  },
  {
   "cell_type": "code",
   "execution_count": null,
   "metadata": {},
   "outputs": [],
   "source": []
  },
  {
   "cell_type": "code",
   "execution_count": null,
   "metadata": {},
   "outputs": [],
   "source": []
  },
  {
   "cell_type": "code",
   "execution_count": null,
   "metadata": {},
   "outputs": [],
   "source": []
  },
  {
   "cell_type": "markdown",
   "metadata": {},
   "source": [
    "Подготовка данных к адаптации"
   ]
  },
  {
   "cell_type": "code",
   "execution_count": null,
   "metadata": {},
   "outputs": [],
   "source": [
    "columns_to_resample =  [\"Коэффициент калибровки по напору - множитель (Модель, вход)\",\n",
    "                     \"Коэффициент калибровки по мощности - множитель (Модель, вход)\",\n",
    "                     \"Обв, % (Модель, вход)\"\n",
    "                    ]\n",
    "new_input_data = all_data[columns_to_resample]\n",
    "new_input_data = new_input_data.resample('1d').mean()\n",
    "new_input_data = new_input_data.resample('3h').mean()\n",
    "new_input_data = new_input_data.interpolate()\n",
    "new_input_data = new_input_data.join(prepared_data)\n",
    "new_input_data.to_csv('new_input_data.csv')"
   ]
  },
  {
   "cell_type": "code",
   "execution_count": null,
   "metadata": {},
   "outputs": [],
   "source": []
  },
  {
   "cell_type": "code",
   "execution_count": null,
   "metadata": {},
   "outputs": [],
   "source": []
  },
  {
   "cell_type": "code",
   "execution_count": null,
   "metadata": {},
   "outputs": [],
   "source": []
  },
  {
   "cell_type": "code",
   "execution_count": null,
   "metadata": {},
   "outputs": [],
   "source": []
  },
  {
   "cell_type": "code",
   "execution_count": null,
   "metadata": {},
   "outputs": [],
   "source": []
  },
  {
   "cell_type": "code",
   "execution_count": null,
   "metadata": {},
   "outputs": [],
   "source": []
  },
  {
   "cell_type": "code",
   "execution_count": null,
   "metadata": {},
   "outputs": [],
   "source": []
  },
  {
   "cell_type": "code",
   "execution_count": null,
   "metadata": {},
   "outputs": [],
   "source": [
    "def plot_2_chosen_parameteres(df, fist_parameter_name, first_dim_str,\n",
    "                              second_parameter_name, second_dim_str,\n",
    "                              filename_str):\n",
    "    fig = make_subplots(rows=2, cols=1, shared_xaxes=True, vertical_spacing=0.02)\n",
    "    first_trace = pw.create_plotly_trace(df.index, df[fist_parameter_name], fist_parameter_name)\n",
    "    second_trace = pw.create_plotly_trace(df.index, df[second_parameter_name], second_parameter_name)\n",
    "    fig = make_subplots(rows=2, cols=1, shared_xaxes=True, vertical_spacing=0.02)\n",
    "    fig.append_trace(first_trace, row=1, col=1)\n",
    "    fig.append_trace(second_trace, row=2, col=1)\n",
    "    #fig.layout.update(yaxis=dict(\n",
    "    #    title='y Axis'))\n",
    "    fig.update_yaxes(title_text=first_dim_str, row=1, col=1)\n",
    "    fig.update_yaxes(title_text=second_dim_str, row=2, col=1)\n",
    "    #xaxis=go.layout.XAxis(\n",
    "    #    title=go.layout.xaxis.Title(\n",
    "    #        text=fist_parameter_name\n",
    "    #    )\n",
    "    #),\n",
    "    #        yaxis=go.layout.YAxis(\n",
    "    #    title=go.layout.xaxis.Title(\n",
    "    #        text=second_parameter_name\n",
    "    #    )))\n",
    "    plot(fig, filename=filename_str)"
   ]
  },
  {
   "cell_type": "code",
   "execution_count": null,
   "metadata": {},
   "outputs": [],
   "source": [
    "plot_2_chosen_parameteres(small_df ,\n",
    "                          \"Мощность, передаваемая СУ (Модель, выход,  адапт. СУ)\", 'Вт',\n",
    "                     \"Q ж, м3/сут (Модель, вход)\", 'м3/сут',\n",
    "                          \"2 графика_ мощность и дебит.html\")"
   ]
  },
  {
   "cell_type": "code",
   "execution_count": null,
   "metadata": {},
   "outputs": [],
   "source": []
  },
  {
   "cell_type": "code",
   "execution_count": null,
   "metadata": {},
   "outputs": [],
   "source": []
  },
  {
   "cell_type": "code",
   "execution_count": null,
   "metadata": {},
   "outputs": [],
   "source": []
  },
  {
   "cell_type": "code",
   "execution_count": null,
   "metadata": {},
   "outputs": [],
   "source": []
  },
  {
   "cell_type": "code",
   "execution_count": null,
   "metadata": {},
   "outputs": [],
   "source": []
  }
 ],
 "metadata": {
  "kernelspec": {
   "display_name": "Python 3",
   "language": "python",
   "name": "python3"
  },
  "language_info": {
   "codemirror_mode": {
    "name": "ipython",
    "version": 3
   },
   "file_extension": ".py",
   "mimetype": "text/x-python",
   "name": "python",
   "nbconvert_exporter": "python",
   "pygments_lexer": "ipython3",
   "version": "3.7.3"
  }
 },
 "nbformat": 4,
 "nbformat_minor": 2
}
