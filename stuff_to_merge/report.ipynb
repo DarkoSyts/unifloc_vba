{
 "cells": [
  {
   "cell_type": "code",
   "execution_count": null,
   "metadata": {},
   "outputs": [],
   "source": [
    "import pandas as pd\n",
    "import sys\n",
    "sys.path.append(\"../\")\n",
    "import plotly_workflow as pw\n",
    "import datetime\n",
    "from plotly.offline import download_plotlyjs, plot, iplot, init_notebook_mode\n",
    "import plotly.figure_factory as ff\n",
    "import plotly.graph_objs as go\n",
    "from plotly.subplots import make_subplots\n",
    "from datetime import datetime\n",
    "init_notebook_mode(connected=True)"
   ]
  },
  {
   "cell_type": "code",
   "execution_count": null,
   "metadata": {},
   "outputs": [],
   "source": []
  },
  {
   "cell_type": "code",
   "execution_count": null,
   "metadata": {},
   "outputs": [],
   "source": [
    "well_name = '1354'\n",
    "time_mark = datetime.today().strftime('%Y_%m_%d_%H_%M_%S')"
   ]
  },
  {
   "cell_type": "code",
   "execution_count": null,
   "metadata": {},
   "outputs": [],
   "source": [
    "def prepare_columns_in_file(df, mark):\n",
    "    df.index = pd.to_datetime(df['Unnamed: 0'])\n",
    "    del df['Unnamed: 0']\n",
    "    for i in df.columns:\n",
    "        df = df.rename(columns={i: i + ' (' + mark + ')' })\n",
    "    return df\n",
    "\n",
    "def plot_func(df, plot_title_str):\n",
    "    \"\"\"\n",
    "    Итоговая функция для построения графиков\n",
    "\n",
    "    :param data: созданный список из trace\n",
    "    :param plot_title_str: название графика\n",
    "    :param filename_str: названия html файлика\n",
    "    :return: None\n",
    "    \"\"\"\n",
    "    layout = dict(title=plot_title_str, legend_orientation=\"h\")\n",
    "    data = pw.create_traces_list_for_all_columms(df, chosen_mode='lines+markers', low_memory = False)\n",
    "    fig = dict(data=data, layout=layout)\n",
    "\n",
    "    iplot(fig)"
   ]
  },
  {
   "cell_type": "code",
   "execution_count": null,
   "metadata": {},
   "outputs": [],
   "source": [
    "adaptation_data = 'Итоговый результат для 1354 время 2019_10_12_17_33_46.csv'\n",
    "restore_data = 'Итоговый результат для 1354 время 2019_10_12_22_49_42.csv'\n",
    "restore_data_2 = 'Итоговый результат для 1354 время 2019_10_13_13_37_42.csv'\n",
    "\n",
    "adapt_df = pd.read_csv(adaptation_data)\n",
    "adapt_df = prepare_columns_in_file(adapt_df, 'ADAPT')\n",
    "restore_df = pd.read_csv(restore_data)\n",
    "restore_df = prepare_columns_in_file(restore_df, 'RESTORE')\n",
    "restore_df_2 = pd.read_csv(restore_data_2)\n",
    "restore_df_2 = prepare_columns_in_file(restore_df_2,  'RESTORE2')\n",
    "\n",
    "overall_data = restore_df.join(adapt_df, how = 'outer')\n",
    "overall_data = overall_data.join(restore_df_2, how = 'outer')\n",
    "\n",
    "adapt_traces = pw.create_traces_list_for_all_columms(adapt_df, chosen_mode='lines+markers')\n",
    "restore_traces = pw.create_traces_list_for_all_columms(restore_df, chosen_mode='lines+markers')\n",
    "restore_traces_2 = pw.create_traces_list_for_all_columms(restore_df_2, chosen_mode='lines+markers')\n",
    "\n",
    "output_traces = pw.connect_traces(adapt_traces, restore_traces)\n",
    "output_traces = pw.connect_traces(output_traces, restore_traces_2)\n",
    "\n",
    "data = output_traces\n",
    "\n",
    "#pw.plot_subplots(data, 'overall_data ' + well_name + ' время ' + time_mark  +  '.html', True)\n",
    "#overall_data.to_csv('overall_data ' + well_name + ' время ' + time_mark   + '.csv')"
   ]
  },
  {
   "cell_type": "code",
   "execution_count": null,
   "metadata": {},
   "outputs": [],
   "source": [
    "for i in (adapt_df.columns):\n",
    "    print(i)"
   ]
  },
  {
   "cell_type": "code",
   "execution_count": null,
   "metadata": {},
   "outputs": [],
   "source": [
    "df = adapt_df[['Qж ТМ (Ш) (ADAPT)','Объемный дебит жидкости (СУ) (ADAPT)', 'Q ж, м3/сут (Модель, вход) (ADAPT)']]\n",
    "plot_func(df, 'Дебиты')"
   ]
  },
  {
   "cell_type": "code",
   "execution_count": null,
   "metadata": {},
   "outputs": [],
   "source": [
    "df = adapt_df[['Коэффициент калибровки по напору - множитель (Модель, вход) (ADAPT)',\n",
    "               'Коэффициент калибровки по мощности - множитель (Модель, вход) (ADAPT)']]\n",
    "plot_func(df, 'Калибровки')"
   ]
  },
  {
   "cell_type": "code",
   "execution_count": null,
   "metadata": {},
   "outputs": [],
   "source": [
    "df = adapt_df[['ГФ (модель, вход) (ADAPT)',\n",
    "               'Обв, % (Модель, вход) (ADAPT)']]\n",
    "plot_func(df, 'ГФ и обводненность')"
   ]
  },
  {
   "cell_type": "code",
   "execution_count": null,
   "metadata": {},
   "outputs": [],
   "source": [
    "df = adapt_df[['T устья, С (Модель, выход) (ADAPT)',\n",
    "               'T прием, С (Модель, вход) (ADAPT)']]\n",
    "plot_func(df, 'Температура')"
   ]
  },
  {
   "cell_type": "code",
   "execution_count": null,
   "metadata": {},
   "outputs": [],
   "source": [
    "df = adapt_df[['P буф., атм (Модель, выход, адапт. Ш) (ADAPT)',\n",
    "               'P прием ЭЦН, атм (Модель, вход) (ADAPT)',\n",
    "               'P лин., атм (Модель, вход) (ADAPT)','Рлин ТМ (Ш) (ADAPT)'\n",
    "              ]]\n",
    "plot_func(df, 'Давления')"
   ]
  },
  {
   "cell_type": "code",
   "execution_count": null,
   "metadata": {},
   "outputs": [],
   "source": [
    "df = adapt_df[['F вращ ТМ (Ш) (ADAPT)',\n",
    "               'Выходная частота ПЧ (СУ) (ADAPT)',\n",
    "               'F тока, ГЦ (Модель, вход) (ADAPT)'\n",
    "              ]]\n",
    "plot_func(df, 'Частота тока')"
   ]
  },
  {
   "cell_type": "code",
   "execution_count": null,
   "metadata": {},
   "outputs": [],
   "source": [
    "df = adapt_df[['Dшт (Ш) (ADAPT)'\n",
    "              ]]\n",
    "plot_func(df, 'Размер штуцера')"
   ]
  },
  {
   "cell_type": "code",
   "execution_count": null,
   "metadata": {},
   "outputs": [],
   "source": [
    "df = adapt_df[['Активная мощность (СУ) (ADAPT)',\n",
    "               'Акт. мощность на СУ, (Модель, выход, адапт. СУ) (ADAPT)'\n",
    "              ]]\n",
    "df['Акт. мощность на СУ, (Модель, выход, адапт. СУ) (ADAPT)'] = df['Акт. мощность на СУ, (Модель, выход, адапт. СУ) (ADAPT)'] / 1000\n",
    "plot_func(df, 'Активная мощность')"
   ]
  },
  {
   "cell_type": "code",
   "execution_count": null,
   "metadata": {},
   "outputs": [],
   "source": [
    "df = adapt_df[['I, А (Модель, выход) (ADAPT)',\n",
    "               'Ток фазы А (ADAPT)',\n",
    "               'Ток фазы В (ADAPT)',\n",
    "               'Ток фазы С (ADAPT)'\n",
    "              ]]\n",
    "plot_func(df, 'Токи')"
   ]
  },
  {
   "cell_type": "code",
   "execution_count": null,
   "metadata": {},
   "outputs": [],
   "source": [
    "df = adapt_df[['Загрузка двигателя (СУ) (ADAPT)',\n",
    "               'Загрузка двигателя, (Модель, выход) (ADAPT)'\n",
    "              ]]\n",
    "df['Загрузка двигателя, (Модель, выход) (ADAPT)'] = df['Загрузка двигателя, (Модель, выход) (ADAPT)'] * 100\n",
    "plot_func(df, 'Загрузка двигателя')"
   ]
  },
  {
   "cell_type": "code",
   "execution_count": null,
   "metadata": {},
   "outputs": [],
   "source": [
    "df = adapt_df[['КПД ЭЦН, д.ед. (Модель, выход) (ADAPT)' ]]\n",
    "plot_func(df, 'КПД ЭЦН')"
   ]
  },
  {
   "cell_type": "code",
   "execution_count": null,
   "metadata": {},
   "outputs": [],
   "source": []
  },
  {
   "cell_type": "code",
   "execution_count": null,
   "metadata": {},
   "outputs": [],
   "source": []
  }
 ],
 "metadata": {
  "kernelspec": {
   "display_name": "Python 3",
   "language": "python",
   "name": "python3"
  },
  "language_info": {
   "codemirror_mode": {
    "name": "ipython",
    "version": 3
   },
   "file_extension": ".py",
   "mimetype": "text/x-python",
   "name": "python",
   "nbconvert_exporter": "python",
   "pygments_lexer": "ipython3",
   "version": "3.7.3"
  }
 },
 "nbformat": 4,
 "nbformat_minor": 2
}
